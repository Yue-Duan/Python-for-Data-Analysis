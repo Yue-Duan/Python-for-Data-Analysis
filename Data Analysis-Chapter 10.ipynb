{
 "cells": [
  {
   "cell_type": "markdown",
   "metadata": {},
   "source": [
    "#Chapter 10 - Time Series\n",
    "\n",
    "+ `datetime()`\n",
    "+ `.timedelta()`\n",
    "+ `str.strftime('%Y-%m-%d')`, `datetime.strptime(x, '%d/%m/%Y)'` - parse string with known format to datetime\n",
    "+ `dateutil.parser.parse.parse(str)` - parse string with unknow format\n",
    "+ `pd.to_datetime(list of strs)` - parse standard formats, handles None as NaT\n",
    "+ `pd.Series(value), index=DatetimeIndex)` - create time series\n",
    "+ `ts.truncate(before='2003-01-01')`  - truncate series\n",
    "+ `pd.date_range('start', periods=, freq=)` - generate index\n",
    "    + pd.date_range('2001-01-01', periods=30, freq='WOM-3FRI')\n",
    "+ `dup_ts.groupby(level=0)` - aggregate duplicate index data\n",
    "+ `pd.date_range(start=, end=, periods=20, freq=, normalize=True)\n",
    "+ `ts.shift(number, freq=, )` - shift time series\n",
    "    + calculate percent changes in data: `ts/ts.shift(1)-1`\n",
    "+ `offset=MonthEnd(); ts.groupby(offset.rollforward).mean()` - to get average by month\n",
    "    + same as `ts.resample('M', how='mean')`\n",
    "+ "
   ]
  },
  {
   "cell_type": "code",
   "execution_count": 78,
   "metadata": {
    "collapsed": true
   },
   "outputs": [],
   "source": [
    "import pandas as pd\n",
    "from datetime import datetime\n",
    "from datetime import timedelta\n",
    "from dateutil.parser import parse\n",
    "import numpy as np\n",
    "from pandas.tseries.offsets import Hour, Minute, Day, MonthEnd"
   ]
  },
  {
   "cell_type": "markdown",
   "metadata": {},
   "source": [
    "##Convert to datetime"
   ]
  },
  {
   "cell_type": "code",
   "execution_count": 4,
   "metadata": {
    "collapsed": false
   },
   "outputs": [
    {
     "data": {
      "text/plain": [
       "datetime.datetime(2015, 6, 23, 13, 56, 37, 876000)"
      ]
     },
     "execution_count": 4,
     "metadata": {},
     "output_type": "execute_result"
    }
   ],
   "source": [
    "now = datetime.now()\n",
    "now"
   ]
  },
  {
   "cell_type": "code",
   "execution_count": 5,
   "metadata": {
    "collapsed": false
   },
   "outputs": [
    {
     "data": {
      "text/plain": [
       "(2015, 6, 23)"
      ]
     },
     "execution_count": 5,
     "metadata": {},
     "output_type": "execute_result"
    }
   ],
   "source": [
    "now.year, now.month, now.day"
   ]
  },
  {
   "cell_type": "code",
   "execution_count": 7,
   "metadata": {
    "collapsed": false
   },
   "outputs": [
    {
     "data": {
      "text/plain": [
       "datetime.timedelta(926, 56700)"
      ]
     },
     "execution_count": 7,
     "metadata": {},
     "output_type": "execute_result"
    }
   ],
   "source": [
    "delta = datetime(2011, 1, 7) - datetime(2008, 6, 24, 8,15)\n",
    "delta"
   ]
  },
  {
   "cell_type": "code",
   "execution_count": 10,
   "metadata": {
    "collapsed": false
   },
   "outputs": [
    {
     "data": {
      "text/plain": [
       "926"
      ]
     },
     "execution_count": 10,
     "metadata": {},
     "output_type": "execute_result"
    }
   ],
   "source": [
    "delta.days, delta.seconds"
   ]
  },
  {
   "cell_type": "code",
   "execution_count": 14,
   "metadata": {
    "collapsed": false
   },
   "outputs": [
    {
     "data": {
      "text/plain": [
       "(datetime.datetime(2011, 1, 19, 0, 0), datetime.datetime(2010, 12, 14, 0, 0))"
      ]
     },
     "execution_count": 14,
     "metadata": {},
     "output_type": "execute_result"
    }
   ],
   "source": [
    "start =  datetime(2011, 1, 7)\n",
    "start + timedelta(12), start - 2 * timedelta(12)"
   ]
  },
  {
   "cell_type": "code",
   "execution_count": 15,
   "metadata": {
    "collapsed": false
   },
   "outputs": [
    {
     "data": {
      "text/plain": [
       "[datetime.datetime(2011, 6, 7, 0, 0), datetime.datetime(2011, 6, 8, 0, 0)]"
      ]
     },
     "execution_count": 15,
     "metadata": {},
     "output_type": "execute_result"
    }
   ],
   "source": [
    "datestrs = ['7/6/2011', '8/6/2011']\n",
    "[datetime.strptime(x, '%d/%m/%Y') for x in datestrs]"
   ]
  },
  {
   "cell_type": "markdown",
   "metadata": {},
   "source": [
    "##Basics:"
   ]
  },
  {
   "cell_type": "code",
   "execution_count": 22,
   "metadata": {
    "collapsed": false
   },
   "outputs": [
    {
     "data": {
      "text/plain": [
       "2001-01-02   -0.043065\n",
       "2001-01-05    0.795079\n",
       "2001-01-07   -0.260652\n",
       "2001-01-08    0.112792\n",
       "2001-01-10    1.122197\n",
       "2001-01-12   -1.011343\n",
       "dtype: float64"
      ]
     },
     "execution_count": 22,
     "metadata": {},
     "output_type": "execute_result"
    }
   ],
   "source": [
    "dates = [datetime(2001,1,2), datetime(2001,1,5), datetime(2001,1,7), datetime(2001,1,8),datetime(2001,1,10), datetime(2001,1,12)]\n",
    "ts = pd.Series(np.random.randn(6), index=dates)\n",
    "ts"
   ]
  },
  {
   "cell_type": "code",
   "execution_count": 24,
   "metadata": {
    "collapsed": false
   },
   "outputs": [
    {
     "data": {
      "text/plain": [
       "2001-01-02   -0.086130\n",
       "2001-01-05         NaN\n",
       "2001-01-07   -0.521305\n",
       "2001-01-08         NaN\n",
       "2001-01-10    2.244394\n",
       "2001-01-12         NaN\n",
       "dtype: float64"
      ]
     },
     "execution_count": 24,
     "metadata": {},
     "output_type": "execute_result"
    }
   ],
   "source": [
    "ts + ts[::2]"
   ]
  },
  {
   "cell_type": "markdown",
   "metadata": {},
   "source": [
    "Index of time series is `DatetimeIndex`, which are timestamps stored in `datetime64` type.  \n",
    "Element of `DatetimeIndex` are `Timestamp` objects"
   ]
  },
  {
   "cell_type": "markdown",
   "metadata": {},
   "source": [
    "###Indexing, slicing time series\n",
    "+ could use datetime, strings of dates, or Timestamp, will automatically recognize"
   ]
  },
  {
   "cell_type": "code",
   "execution_count": 32,
   "metadata": {
    "collapsed": false
   },
   "outputs": [
    {
     "data": {
      "text/plain": [
       "-0.26065248671688612"
      ]
     },
     "execution_count": 32,
     "metadata": {},
     "output_type": "execute_result"
    }
   ],
   "source": [
    "stamp = ts.index[2]\n",
    "ts[stamp]"
   ]
  },
  {
   "cell_type": "code",
   "execution_count": 28,
   "metadata": {
    "collapsed": false
   },
   "outputs": [
    {
     "data": {
      "text/plain": [
       "(1.1221972398446791, 1.1221972398446791)"
      ]
     },
     "execution_count": 28,
     "metadata": {},
     "output_type": "execute_result"
    }
   ],
   "source": [
    "ts['1/10/2001'], ts['20010110']"
   ]
  },
  {
   "cell_type": "code",
   "execution_count": 31,
   "metadata": {
    "collapsed": false
   },
   "outputs": [],
   "source": [
    "longer_ts = pd.Series(np.random.randn(1000),\n",
    "                  index=pd.date_range('2001-01-01', periods=1000))"
   ]
  },
  {
   "cell_type": "code",
   "execution_count": 35,
   "metadata": {
    "collapsed": false
   },
   "outputs": [
    {
     "data": {
      "text/plain": [
       "2001-12-25   -0.504424\n",
       "2001-12-26   -0.541032\n",
       "2001-12-27    1.302668\n",
       "2001-12-28    0.872633\n",
       "2001-12-29   -1.435331\n",
       "2001-12-30    0.316514\n",
       "2001-12-31   -0.948176\n",
       "Freq: D, dtype: float64"
      ]
     },
     "execution_count": 35,
     "metadata": {},
     "output_type": "execute_result"
    }
   ],
   "source": [
    "longer_ts['2001-12-25':'2001-12-31']"
   ]
  },
  {
   "cell_type": "code",
   "execution_count": 47,
   "metadata": {
    "collapsed": false
   },
   "outputs": [
    {
     "data": {
      "text/plain": [
       "2003-05-01    0.754168\n",
       "2003-05-02   -1.712847\n",
       "2003-05-03    0.510372\n",
       "2003-05-04    2.047642\n",
       "2003-05-05   -1.533124\n",
       "2003-05-06    0.299380\n",
       "2003-05-07   -0.108829\n",
       "2003-05-08   -0.620412\n",
       "2003-05-09    0.820070\n",
       "2003-05-10    1.321178\n",
       "2003-05-11   -0.474975\n",
       "2003-05-12    0.808327\n",
       "2003-05-13    1.465529\n",
       "2003-05-14    1.824638\n",
       "2003-05-15   -0.970271\n",
       "...\n",
       "2003-09-13    0.699672\n",
       "2003-09-14    0.370905\n",
       "2003-09-15   -2.954452\n",
       "2003-09-16    0.018892\n",
       "2003-09-17   -0.569614\n",
       "2003-09-18   -1.659805\n",
       "2003-09-19   -1.607561\n",
       "2003-09-20    0.326318\n",
       "2003-09-21    1.644668\n",
       "2003-09-22    0.190087\n",
       "2003-09-23    2.035348\n",
       "2003-09-24    1.521530\n",
       "2003-09-25    0.948924\n",
       "2003-09-26    1.038703\n",
       "2003-09-27   -1.363364\n",
       "Freq: D, Length: 150"
      ]
     },
     "execution_count": 47,
     "metadata": {},
     "output_type": "execute_result"
    }
   ],
   "source": [
    "longer_ts.truncate(before='2003-05-01')"
   ]
  },
  {
   "cell_type": "code",
   "execution_count": 45,
   "metadata": {
    "collapsed": false
   },
   "outputs": [
    {
     "data": {
      "text/html": [
       "<div style=\"max-height:1000px;max-width:1500px;overflow:auto;\">\n",
       "<table border=\"1\" class=\"dataframe\">\n",
       "  <thead>\n",
       "    <tr style=\"text-align: right;\">\n",
       "      <th></th>\n",
       "      <th>Colorado</th>\n",
       "      <th>Texas</th>\n",
       "      <th>New York</th>\n",
       "      <th>Ohio</th>\n",
       "    </tr>\n",
       "  </thead>\n",
       "  <tbody>\n",
       "    <tr>\n",
       "      <th>2001-05-02</th>\n",
       "      <td>-1.161427</td>\n",
       "      <td> 0.598292</td>\n",
       "      <td>-0.370993</td>\n",
       "      <td> 0.498838</td>\n",
       "    </tr>\n",
       "    <tr>\n",
       "      <th>2001-05-09</th>\n",
       "      <td>-0.106573</td>\n",
       "      <td> 1.036303</td>\n",
       "      <td> 1.377030</td>\n",
       "      <td> 2.515939</td>\n",
       "    </tr>\n",
       "    <tr>\n",
       "      <th>2001-05-16</th>\n",
       "      <td>-0.474813</td>\n",
       "      <td>-0.026353</td>\n",
       "      <td> 1.128873</td>\n",
       "      <td> 0.938924</td>\n",
       "    </tr>\n",
       "    <tr>\n",
       "      <th>2001-05-23</th>\n",
       "      <td>-0.428640</td>\n",
       "      <td> 0.446975</td>\n",
       "      <td> 0.983607</td>\n",
       "      <td> 0.335281</td>\n",
       "    </tr>\n",
       "    <tr>\n",
       "      <th>2001-05-30</th>\n",
       "      <td> 0.406225</td>\n",
       "      <td> 0.115490</td>\n",
       "      <td> 1.175637</td>\n",
       "      <td> 0.619559</td>\n",
       "    </tr>\n",
       "  </tbody>\n",
       "</table>\n",
       "</div>"
      ],
      "text/plain": [
       "            Colorado     Texas  New York      Ohio\n",
       "2001-05-02 -1.161427  0.598292 -0.370993  0.498838\n",
       "2001-05-09 -0.106573  1.036303  1.377030  2.515939\n",
       "2001-05-16 -0.474813 -0.026353  1.128873  0.938924\n",
       "2001-05-23 -0.428640  0.446975  0.983607  0.335281\n",
       "2001-05-30  0.406225  0.115490  1.175637  0.619559"
      ]
     },
     "execution_count": 45,
     "metadata": {},
     "output_type": "execute_result"
    }
   ],
   "source": [
    "dates = pd.date_range('1/1/2000', periods=100, freq='W-WED')\n",
    "long_df = pd.DataFrame(np.random.randn(100,4), index=dates, columns=['Colorado', 'Texas', 'New York', 'Ohio'])\n",
    "long_df.ix['5-2001']"
   ]
  },
  {
   "cell_type": "markdown",
   "metadata": {},
   "source": [
    "###Duplicate indices\n",
    "+ check by `ts.index.is_unique`\n",
    "+ `groupby('level=0')`"
   ]
  },
  {
   "cell_type": "code",
   "execution_count": 53,
   "metadata": {
    "collapsed": false
   },
   "outputs": [],
   "source": [
    "dates = pd.DatetimeIndex(['1/1/2000', '1/2/2000', '1/2/2000', '1/2/2000', '1/2/2000'])\n",
    "dup_tx = pd.Series(range(5), index=dates)"
   ]
  },
  {
   "cell_type": "code",
   "execution_count": 54,
   "metadata": {
    "collapsed": false
   },
   "outputs": [
    {
     "data": {
      "text/plain": [
       "2000-01-01    0\n",
       "2000-01-02    1\n",
       "2000-01-02    2\n",
       "2000-01-02    3\n",
       "2000-01-02    4\n",
       "dtype: int64"
      ]
     },
     "execution_count": 54,
     "metadata": {},
     "output_type": "execute_result"
    }
   ],
   "source": [
    "dup_tx"
   ]
  },
  {
   "cell_type": "code",
   "execution_count": 58,
   "metadata": {
    "collapsed": false
   },
   "outputs": [
    {
     "data": {
      "text/plain": [
       "False"
      ]
     },
     "execution_count": 58,
     "metadata": {},
     "output_type": "execute_result"
    }
   ],
   "source": [
    "dup_tx.index.is_unique"
   ]
  },
  {
   "cell_type": "code",
   "execution_count": 61,
   "metadata": {
    "collapsed": false
   },
   "outputs": [
    {
     "data": {
      "text/plain": [
       "2000-01-01    1\n",
       "2000-01-02    4\n",
       "dtype: int64"
      ]
     },
     "execution_count": 61,
     "metadata": {},
     "output_type": "execute_result"
    }
   ],
   "source": [
    "grouped = dup_tx.groupby(level=0) # aggregate data for non-unique timestamps\n",
    "grouped.count()"
   ]
  },
  {
   "cell_type": "markdown",
   "metadata": {},
   "source": [
    "##Range, freq, shifting\n",
    "+ `ts.resample(freq='', how=)`"
   ]
  },
  {
   "cell_type": "code",
   "execution_count": 63,
   "metadata": {
    "collapsed": false
   },
   "outputs": [
    {
     "data": {
      "text/plain": [
       "(2001-01-02   -0.043065\n",
       " 2001-01-05    0.795079\n",
       " 2001-01-07   -0.260652\n",
       " 2001-01-08    0.112792\n",
       " 2001-01-10    1.122197\n",
       " 2001-01-12   -1.011343\n",
       " dtype: float64, 2001-01-02   -0.043065\n",
       " 2001-01-03         NaN\n",
       " 2001-01-04         NaN\n",
       " 2001-01-05    0.795079\n",
       " 2001-01-06         NaN\n",
       " 2001-01-07   -0.260652\n",
       " 2001-01-08    0.112792\n",
       " 2001-01-09         NaN\n",
       " 2001-01-10    1.122197\n",
       " 2001-01-11         NaN\n",
       " 2001-01-12   -1.011343\n",
       " Freq: D, dtype: float64)"
      ]
     },
     "execution_count": 63,
     "metadata": {},
     "output_type": "execute_result"
    }
   ],
   "source": [
    "ts, ts.resample('D')"
   ]
  },
  {
   "cell_type": "markdown",
   "metadata": {},
   "source": [
    "###generate date ranges"
   ]
  },
  {
   "cell_type": "code",
   "execution_count": 64,
   "metadata": {
    "collapsed": false
   },
   "outputs": [
    {
     "data": {
      "text/plain": [
       "<class 'pandas.tseries.index.DatetimeIndex'>\n",
       "[2012-01-04, ..., 2012-01-23]\n",
       "Length: 20, Freq: D, Timezone: None"
      ]
     },
     "execution_count": 64,
     "metadata": {},
     "output_type": "execute_result"
    }
   ],
   "source": [
    "# generate time stamps\n",
    "pd.date_range(start='20120104', periods=20)"
   ]
  },
  {
   "cell_type": "code",
   "execution_count": 66,
   "metadata": {
    "collapsed": false
   },
   "outputs": [
    {
     "data": {
      "text/plain": [
       "<class 'pandas.tseries.index.DatetimeIndex'>\n",
       "[2012-01-31, ..., 2012-12-31]\n",
       "Length: 12, Freq: BM, Timezone: None"
      ]
     },
     "execution_count": 66,
     "metadata": {},
     "output_type": "execute_result"
    }
   ],
   "source": [
    "# last business day of each month\n",
    "pd.date_range('20120104', '20121231', freq='BM')"
   ]
  },
  {
   "cell_type": "markdown",
   "metadata": {},
   "source": [
    "###Frequencies and date offsets\n",
    "+ see page 300 for a full list of frenquencies"
   ]
  },
  {
   "cell_type": "code",
   "execution_count": 70,
   "metadata": {
    "collapsed": false
   },
   "outputs": [
    {
     "data": {
      "text/plain": [
       "<4 * Hours>"
      ]
     },
     "execution_count": 70,
     "metadata": {},
     "output_type": "execute_result"
    }
   ],
   "source": [
    "hour = Hour(4)\n",
    "hour"
   ]
  },
  {
   "cell_type": "code",
   "execution_count": 72,
   "metadata": {
    "collapsed": false
   },
   "outputs": [
    {
     "data": {
      "text/plain": [
       "<330 * Minutes>"
      ]
     },
     "execution_count": 72,
     "metadata": {},
     "output_type": "execute_result"
    }
   ],
   "source": [
    "Hour(5) + Minute(30)"
   ]
  },
  {
   "cell_type": "code",
   "execution_count": 71,
   "metadata": {
    "collapsed": false
   },
   "outputs": [
    {
     "data": {
      "text/plain": [
       "<class 'pandas.tseries.index.DatetimeIndex'>\n",
       "[2001-01-01 00:00:00, ..., 2001-01-05 20:00:00]\n",
       "Length: 30, Freq: 4H, Timezone: None"
      ]
     },
     "execution_count": 71,
     "metadata": {},
     "output_type": "execute_result"
    }
   ],
   "source": [
    "pd.date_range('2001-01-01', periods=30, freq='4H')"
   ]
  },
  {
   "cell_type": "code",
   "execution_count": 73,
   "metadata": {
    "collapsed": false
   },
   "outputs": [
    {
     "data": {
      "text/plain": [
       "<class 'pandas.tseries.index.DatetimeIndex'>\n",
       "[2001-01-01 00:00:00, ..., 2001-01-02 19:30:00]\n",
       "Length: 30, Freq: 90T, Timezone: None"
      ]
     },
     "execution_count": 73,
     "metadata": {},
     "output_type": "execute_result"
    }
   ],
   "source": [
    "pd.date_range('2001-01-01', periods=30, freq='1h30min')"
   ]
  },
  {
   "cell_type": "code",
   "execution_count": 74,
   "metadata": {
    "collapsed": false
   },
   "outputs": [
    {
     "data": {
      "text/plain": [
       "<class 'pandas.tseries.index.DatetimeIndex'>\n",
       "[2001-01-19, ..., 2003-06-20]\n",
       "Length: 30, Freq: WOM-3FRI, Timezone: None"
      ]
     },
     "execution_count": 74,
     "metadata": {},
     "output_type": "execute_result"
    }
   ],
   "source": [
    "# third Friday of each month\n",
    "pd.date_range('2001-01-01', periods=30, freq='WOM-3FRI')"
   ]
  },
  {
   "cell_type": "markdown",
   "metadata": {},
   "source": [
    "###Shifting/lagging data"
   ]
  },
  {
   "cell_type": "code",
   "execution_count": 75,
   "metadata": {
    "collapsed": false
   },
   "outputs": [
    {
     "data": {
      "text/plain": [
       "2001-01-02   -0.043065\n",
       "2001-01-05    0.795079\n",
       "2001-01-07   -0.260652\n",
       "2001-01-08    0.112792\n",
       "2001-01-10    1.122197\n",
       "2001-01-12   -1.011343\n",
       "dtype: float64"
      ]
     },
     "execution_count": 75,
     "metadata": {},
     "output_type": "execute_result"
    }
   ],
   "source": [
    "ts"
   ]
  },
  {
   "cell_type": "code",
   "execution_count": 76,
   "metadata": {
    "collapsed": false
   },
   "outputs": [
    {
     "data": {
      "text/plain": [
       "2001-01-02         NaN\n",
       "2001-01-05   -0.043065\n",
       "2001-01-07    0.795079\n",
       "2001-01-08   -0.260652\n",
       "2001-01-10    0.112792\n",
       "2001-01-12    1.122197\n",
       "dtype: float64"
      ]
     },
     "execution_count": 76,
     "metadata": {},
     "output_type": "execute_result"
    }
   ],
   "source": [
    "ts.shift(1)"
   ]
  },
  {
   "cell_type": "code",
   "execution_count": 77,
   "metadata": {
    "collapsed": false
   },
   "outputs": [
    {
     "data": {
      "text/plain": [
       "2001-01-02   -0.260652\n",
       "2001-01-05    0.112792\n",
       "2001-01-07    1.122197\n",
       "2001-01-08   -1.011343\n",
       "2001-01-10         NaN\n",
       "2001-01-12         NaN\n",
       "dtype: float64"
      ]
     },
     "execution_count": 77,
     "metadata": {},
     "output_type": "execute_result"
    }
   ],
   "source": [
    "ts.shift(-2)"
   ]
  },
  {
   "cell_type": "code",
   "execution_count": 81,
   "metadata": {
    "collapsed": false
   },
   "outputs": [
    {
     "data": {
      "text/plain": [
       "Timestamp('2015-06-26 15:39:59.934000')"
      ]
     },
     "execution_count": 81,
     "metadata": {},
     "output_type": "execute_result"
    }
   ],
   "source": [
    "now = datetime.now()\n",
    "now + 3*Day()"
   ]
  },
  {
   "cell_type": "code",
   "execution_count": 82,
   "metadata": {
    "collapsed": false
   },
   "outputs": [
    {
     "data": {
      "text/plain": [
       "Timestamp('2015-06-30 15:39:59.934000')"
      ]
     },
     "execution_count": 82,
     "metadata": {},
     "output_type": "execute_result"
    }
   ],
   "source": [
    "now + MonthEnd() # roll forward"
   ]
  },
  {
   "cell_type": "code",
   "execution_count": 83,
   "metadata": {
    "collapsed": false
   },
   "outputs": [
    {
     "data": {
      "text/plain": [
       "Timestamp('2015-07-31 15:39:59.934000')"
      ]
     },
     "execution_count": 83,
     "metadata": {},
     "output_type": "execute_result"
    }
   ],
   "source": [
    "now + MonthEnd(2)"
   ]
  },
  {
   "cell_type": "code",
   "execution_count": 87,
   "metadata": {
    "collapsed": false
   },
   "outputs": [
    {
     "data": {
      "text/plain": [
       "(Timestamp('2015-06-30 15:39:59.934000'),\n",
       " Timestamp('2015-05-31 15:39:59.934000'))"
      ]
     },
     "execution_count": 87,
     "metadata": {},
     "output_type": "execute_result"
    }
   ],
   "source": [
    "offset = MonthEnd()\n",
    "offset.rollforward(now), offset.rollback(now)"
   ]
  },
  {
   "cell_type": "code",
   "execution_count": 90,
   "metadata": {
    "collapsed": false
   },
   "outputs": [
    {
     "data": {
      "text/plain": [
       "2000-01-31    0.103575\n",
       "2000-02-29    0.237210\n",
       "2000-03-31    0.314219\n",
       "dtype: float64"
      ]
     },
     "execution_count": 90,
     "metadata": {},
     "output_type": "execute_result"
    }
   ],
   "source": [
    "# example of getting montly average\n",
    "ts = pd.Series(np.random.randn(20), index=pd.date_range('20000115', periods=20, freq='4d'))\n",
    "ts.groupby(offset.rollforward).mean()"
   ]
  },
  {
   "cell_type": "code",
   "execution_count": 91,
   "metadata": {
    "collapsed": false
   },
   "outputs": [
    {
     "data": {
      "text/plain": [
       "2000-01-31    0.103575\n",
       "2000-02-29    0.237210\n",
       "2000-03-31    0.314219\n",
       "Freq: M, dtype: float64"
      ]
     },
     "execution_count": 91,
     "metadata": {},
     "output_type": "execute_result"
    }
   ],
   "source": [
    "ts.resample('M', how='mean')"
   ]
  },
  {
   "cell_type": "markdown",
   "metadata": {},
   "source": [
    "##Time zone \n"
   ]
  },
  {
   "cell_type": "code",
   "execution_count": null,
   "metadata": {
    "collapsed": true
   },
   "outputs": [],
   "source": []
  },
  {
   "cell_type": "code",
   "execution_count": null,
   "metadata": {
    "collapsed": true
   },
   "outputs": [],
   "source": []
  },
  {
   "cell_type": "code",
   "execution_count": null,
   "metadata": {
    "collapsed": true
   },
   "outputs": [],
   "source": []
  },
  {
   "cell_type": "code",
   "execution_count": null,
   "metadata": {
    "collapsed": true
   },
   "outputs": [],
   "source": []
  },
  {
   "cell_type": "code",
   "execution_count": null,
   "metadata": {
    "collapsed": true
   },
   "outputs": [],
   "source": []
  },
  {
   "cell_type": "code",
   "execution_count": null,
   "metadata": {
    "collapsed": true
   },
   "outputs": [],
   "source": []
  },
  {
   "cell_type": "code",
   "execution_count": null,
   "metadata": {
    "collapsed": true
   },
   "outputs": [],
   "source": []
  }
 ],
 "metadata": {
  "kernelspec": {
   "display_name": "Python 2",
   "language": "python",
   "name": "python2"
  },
  "language_info": {
   "codemirror_mode": {
    "name": "ipython",
    "version": 2
   },
   "file_extension": ".py",
   "mimetype": "text/x-python",
   "name": "python",
   "nbconvert_exporter": "python",
   "pygments_lexer": "ipython2",
   "version": "2.7.9"
  }
 },
 "nbformat": 4,
 "nbformat_minor": 0
}

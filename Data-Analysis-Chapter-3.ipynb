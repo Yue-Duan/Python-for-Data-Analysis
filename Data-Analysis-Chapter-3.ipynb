{
 "cells": [
  {
   "cell_type": "markdown",
   "metadata": {},
   "source": [
    "#Chapter 3"
   ]
  },
  {
   "cell_type": "markdown",
   "metadata": {},
   "source": [
    "##IPython basics"
   ]
  },
  {
   "cell_type": "markdown",
   "metadata": {
    "collapsed": true
   },
   "source": [
    "private methods and attributes (begin and end with __) are hided  \n",
    "\n",
    "`np.*load*` shows all functions containing the word load\n",
    "\n",
    "`%run saved_code.py -i` to run saved code # `-i` gives it access to IPython namespace\n",
    "\n",
    "`%paste` will paste block of code and run  \n",
    "`%cpaste` gives a prompt\n",
    "\n",
    "`%time + cmd` report running time  `%timeit` returns average of multiple runs  \n",
    "\n",
    "`%reset` reset namespace  \n",
    "\n",
    "`%who` `%who_ls`, `%whos` display variables\n",
    "\n",
    "`%xdel variable` delete\n",
    "\n",
    "`ipython --pylab` launch with pylab flag-integrate matplotlib\n",
    "\n",
    "`_i[Input line number]` stores input variable  \n",
    "`_[Output line number]` stores output variable  \n",
    "\n",
    "`%logstart` logs inputs and output for a session \n",
    "\n",
    "`%bookmark name dir` - use -l to list all bookmarks  \n",
    "`%cd dir`\n",
    "`!cmd` run it in shell  \n",
    "`%alias name (cmd)`  set alias for command  \n",
    "\n",
    "`%debug` and `run -d -b2` -d invokes debugger, -b2 starts breakpoint at line 2  \n",
    "\n",
    "`python -m cProfile -s cumulative saved_code.py` profile the code file, -s sort order \n",
    "`%prun -l 7 -s cumulative func()` profile functions  \n",
    "`%lprun -f func1 -f func2 statement` profile line by line\n",
    "\n",
    "`$ ipython profile create new_profile` then config the profile  \n",
    "`ipython -profile=new_profile` run "
   ]
  }
 ],
 "metadata": {
  "kernelspec": {
   "display_name": "Python 2",
   "language": "python",
   "name": "python2"
  },
  "language_info": {
   "codemirror_mode": {
    "name": "ipython",
    "version": 2
   },
   "file_extension": ".py",
   "mimetype": "text/x-python",
   "name": "python",
   "nbconvert_exporter": "python",
   "pygments_lexer": "ipython2",
   "version": "2.7.9"
  }
 },
 "nbformat": 4,
 "nbformat_minor": 0
}

{
 "cells": [
  {
   "cell_type": "markdown",
   "metadata": {},
   "source": [
    "#Chapter 3"
   ]
  },
  {
   "cell_type": "markdown",
   "metadata": {},
   "source": [
    "##IPython basics"
   ]
  },
  {
   "cell_type": "markdown",
   "metadata": {
    "collapsed": true
   },
   "source": [
    "private methods and attributes (begin and end with __) are hided  \n",
    "\n",
    "`np.*load*` shows all functions containing the word load\n",
    "\n",
    "`%run saved_code.py -i` to run saved code # `-i` gives it access to IPython namespace\n",
    "\n",
    "`%paste` will paste block of code and run  \n",
    "`%cpaste` gives a prompt\n",
    "\n",
    "`%time + code` report running time  \n",
    "\n",
    "`%reset` reset namespace  \n",
    "\n",
    "`%who` `%who_ls`, `%whos` display variables\n",
    "\n",
    "`%xdel variable` delete\n",
    "\n",
    "`ipython --pylab` launch with pylab flag-integrate matplotlib\n",
    "\n",
    "`_i[Input line number]` stores input variable  \n",
    "`_[Output line number]` stores output variable  \n",
    "\n"
   ]
  }
 ],
 "metadata": {
  "kernelspec": {
   "display_name": "Python 2",
   "language": "python",
   "name": "python2"
  },
  "language_info": {
   "codemirror_mode": {
    "name": "ipython",
    "version": 2
   },
   "file_extension": ".py",
   "mimetype": "text/x-python",
   "name": "python",
   "nbconvert_exporter": "python",
   "pygments_lexer": "ipython2",
   "version": "2.7.9"
  }
 },
 "nbformat": 4,
 "nbformat_minor": 0
}
